{
 "cells": [
  {
   "cell_type": "code",
   "execution_count": 1,
   "metadata": {},
   "outputs": [
    {
     "name": "stdout",
     "output_type": "stream",
     "text": [
      "<class 'pandas.core.frame.DataFrame'>\n",
      "RangeIndex: 27278 entries, 0 to 27277\n",
      "Data columns (total 3 columns):\n",
      "movieId    27278 non-null int64\n",
      "title      27278 non-null object\n",
      "genres     27278 non-null object\n",
      "dtypes: int64(1), object(2)\n",
      "memory usage: 639.4+ KB\n",
      "<class 'pandas.core.frame.DataFrame'>\n",
      "RangeIndex: 20000263 entries, 0 to 20000262\n",
      "Data columns (total 4 columns):\n",
      "userId       int64\n",
      "movieId      int64\n",
      "rating       float64\n",
      "timestamp    int64\n",
      "dtypes: float64(1), int64(3)\n",
      "memory usage: 610.4 MB\n",
      "<class 'pandas.core.frame.DataFrame'>\n",
      "RangeIndex: 465564 entries, 0 to 465563\n",
      "Data columns (total 4 columns):\n",
      "userId       465564 non-null int64\n",
      "movieId      465564 non-null int64\n",
      "tag          465548 non-null object\n",
      "timestamp    465564 non-null int64\n",
      "dtypes: int64(3), object(1)\n",
      "memory usage: 14.2+ MB\n"
     ]
    },
    {
     "name": "stderr",
     "output_type": "stream",
     "text": [
      "/Users/ingonader/anaconda3/lib/python3.6/site-packages/ipykernel_launcher.py:184: FutureWarning: 'genres' is both an index level and a column label.\n",
      "Defaulting to column, but this will raise an ambiguity error in a future version\n"
     ]
    },
    {
     "name": "stdout",
     "output_type": "stream",
     "text": [
      "Counter({'Drama': 13344, 'Comedy': 8374, 'Thriller': 4178, 'Romance': 4127, 'Action': 3520, 'Crime': 2939, 'Horror': 2611, 'Documentary': 2471, 'Adventure': 2329, 'Sci-Fi': 1743, 'Mystery': 1514, 'Fantasy': 1412, 'War': 1194, 'Children': 1139, 'Musical': 1036, 'Animation': 1027, 'Western': 676, 'Film-Noir': 330, '(no genres listed)': 246, 'IMAX': 196})\n",
      "dict_values([2329, 1027, 1139, 8374, 1412, 4127, 13344, 3520, 2939, 4178, 2611, 1514, 1743, 196, 2471, 1194, 1036, 676, 330, 246])\n",
      "dict_keys(['Adventure', 'Animation', 'Children', 'Comedy', 'Fantasy', 'Romance', 'Drama', 'Action', 'Crime', 'Thriller', 'Horror', 'Mystery', 'Sci-Fi', 'IMAX', 'Documentary', 'War', 'Musical', 'Western', 'Film-Noir', '(no genres listed)'])\n",
      "[('Drama', 13344), ('Comedy', 8374), ('Thriller', 4178)]\n"
     ]
    },
    {
     "name": "stderr",
     "output_type": "stream",
     "text": [
      "/Users/ingonader/anaconda3/lib/python3.6/site-packages/ipykernel_launcher.py:221: UserWarning: This pattern has match groups. To actually get the groups, use str.extract.\n"
     ]
    },
    {
     "data": {
      "text/plain": [
       "<Figure size 640x480 with 1 Axes>"
      ]
     },
     "metadata": {},
     "output_type": "display_data"
    },
    {
     "name": "stderr",
     "output_type": "stream",
     "text": [
      "/Users/ingonader/anaconda3/lib/python3.6/site-packages/plotnine/layer.py:452: UserWarning: geom_jitter : Removed 42 rows containing missing values.\n",
      "  self.data = self.geom.handle_na(self.data)\n"
     ]
    },
    {
     "data": {
      "text/plain": [
       "<Figure size 640x480 with 1 Axes>"
      ]
     },
     "metadata": {},
     "output_type": "display_data"
    },
    {
     "name": "stdout",
     "output_type": "stream",
     "text": [
      "<ggplot: (7542746828)>\n"
     ]
    },
    {
     "name": "stderr",
     "output_type": "stream",
     "text": [
      "/Users/ingonader/anaconda3/lib/python3.6/site-packages/plotnine/layer.py:452: UserWarning: geom_jitter : Removed 12 rows containing missing values.\n",
      "  self.data = self.geom.handle_na(self.data)\n"
     ]
    },
    {
     "data": {
      "text/plain": [
       "<Figure size 640x480 with 1 Axes>"
      ]
     },
     "metadata": {},
     "output_type": "display_data"
    },
    {
     "name": "stdout",
     "output_type": "stream",
     "text": [
      "<ggplot: (7542793252)>\n"
     ]
    },
    {
     "name": "stderr",
     "output_type": "stream",
     "text": [
      "/Users/ingonader/anaconda3/lib/python3.6/site-packages/plotnine/layer.py:452: UserWarning: geom_jitter : Removed 21 rows containing missing values.\n",
      "  self.data = self.geom.handle_na(self.data)\n"
     ]
    },
    {
     "data": {
      "text/plain": [
       "<Figure size 640x480 with 1 Axes>"
      ]
     },
     "metadata": {},
     "output_type": "display_data"
    },
    {
     "name": "stdout",
     "output_type": "stream",
     "text": [
      "<ggplot: (7543033969)>\n"
     ]
    },
    {
     "name": "stderr",
     "output_type": "stream",
     "text": [
      "/Users/ingonader/anaconda3/lib/python3.6/site-packages/plotnine/layer.py:452: UserWarning: geom_jitter : Removed 142 rows containing missing values.\n",
      "  self.data = self.geom.handle_na(self.data)\n"
     ]
    },
    {
     "data": {
      "text/plain": [
       "<Figure size 640x480 with 1 Axes>"
      ]
     },
     "metadata": {},
     "output_type": "display_data"
    },
    {
     "name": "stdout",
     "output_type": "stream",
     "text": [
      "<ggplot: (-9223372029312021637)>\n"
     ]
    },
    {
     "name": "stderr",
     "output_type": "stream",
     "text": [
      "/Users/ingonader/anaconda3/lib/python3.6/site-packages/plotnine/layer.py:452: UserWarning: geom_jitter : Removed 14 rows containing missing values.\n",
      "  self.data = self.geom.handle_na(self.data)\n"
     ]
    },
    {
     "data": {
      "text/plain": [
       "<Figure size 640x480 with 1 Axes>"
      ]
     },
     "metadata": {},
     "output_type": "display_data"
    },
    {
     "name": "stdout",
     "output_type": "stream",
     "text": [
      "<ggplot: (7543008611)>\n"
     ]
    },
    {
     "name": "stderr",
     "output_type": "stream",
     "text": [
      "/Users/ingonader/anaconda3/lib/python3.6/site-packages/plotnine/layer.py:452: UserWarning: geom_jitter : Removed 98 rows containing missing values.\n",
      "  self.data = self.geom.handle_na(self.data)\n"
     ]
    },
    {
     "data": {
      "text/plain": [
       "<Figure size 640x480 with 1 Axes>"
      ]
     },
     "metadata": {},
     "output_type": "display_data"
    },
    {
     "name": "stdout",
     "output_type": "stream",
     "text": [
      "<ggplot: (7543996308)>\n"
     ]
    },
    {
     "name": "stderr",
     "output_type": "stream",
     "text": [
      "/Users/ingonader/anaconda3/lib/python3.6/site-packages/plotnine/layer.py:452: UserWarning: geom_jitter : Removed 282 rows containing missing values.\n",
      "  self.data = self.geom.handle_na(self.data)\n"
     ]
    },
    {
     "data": {
      "text/plain": [
       "<Figure size 640x480 with 1 Axes>"
      ]
     },
     "metadata": {},
     "output_type": "display_data"
    },
    {
     "name": "stdout",
     "output_type": "stream",
     "text": [
      "<ggplot: (-9223372029310739375)>\n"
     ]
    },
    {
     "name": "stderr",
     "output_type": "stream",
     "text": [
      "/Users/ingonader/anaconda3/lib/python3.6/site-packages/plotnine/layer.py:452: UserWarning: geom_jitter : Removed 54 rows containing missing values.\n",
      "  self.data = self.geom.handle_na(self.data)\n"
     ]
    },
    {
     "data": {
      "text/plain": [
       "<Figure size 640x480 with 1 Axes>"
      ]
     },
     "metadata": {},
     "output_type": "display_data"
    },
    {
     "name": "stdout",
     "output_type": "stream",
     "text": [
      "<ggplot: (-9223372029311679758)>\n"
     ]
    },
    {
     "name": "stderr",
     "output_type": "stream",
     "text": [
      "/Users/ingonader/anaconda3/lib/python3.6/site-packages/plotnine/layer.py:452: UserWarning: geom_jitter : Removed 50 rows containing missing values.\n",
      "  self.data = self.geom.handle_na(self.data)\n"
     ]
    },
    {
     "data": {
      "text/plain": [
       "<Figure size 640x480 with 1 Axes>"
      ]
     },
     "metadata": {},
     "output_type": "display_data"
    },
    {
     "name": "stdout",
     "output_type": "stream",
     "text": [
      "<ggplot: (-9223372029310393852)>\n"
     ]
    },
    {
     "name": "stderr",
     "output_type": "stream",
     "text": [
      "/Users/ingonader/anaconda3/lib/python3.6/site-packages/plotnine/layer.py:452: UserWarning: geom_jitter : Removed 49 rows containing missing values.\n",
      "  self.data = self.geom.handle_na(self.data)\n"
     ]
    },
    {
     "data": {
      "text/plain": [
       "<Figure size 640x480 with 1 Axes>"
      ]
     },
     "metadata": {},
     "output_type": "display_data"
    },
    {
     "name": "stdout",
     "output_type": "stream",
     "text": [
      "<ggplot: (7544352285)>\n"
     ]
    },
    {
     "name": "stderr",
     "output_type": "stream",
     "text": [
      "/Users/ingonader/anaconda3/lib/python3.6/site-packages/plotnine/layer.py:452: UserWarning: geom_jitter : Removed 21 rows containing missing values.\n",
      "  self.data = self.geom.handle_na(self.data)\n"
     ]
    },
    {
     "data": {
      "text/plain": [
       "<Figure size 640x480 with 1 Axes>"
      ]
     },
     "metadata": {},
     "output_type": "display_data"
    },
    {
     "name": "stdout",
     "output_type": "stream",
     "text": [
      "<ggplot: (-9223372029310062732)>\n"
     ]
    },
    {
     "name": "stderr",
     "output_type": "stream",
     "text": [
      "/Users/ingonader/anaconda3/lib/python3.6/site-packages/plotnine/layer.py:452: UserWarning: geom_jitter : Removed 25 rows containing missing values.\n",
      "  self.data = self.geom.handle_na(self.data)\n"
     ]
    },
    {
     "data": {
      "text/plain": [
       "<Figure size 640x480 with 1 Axes>"
      ]
     },
     "metadata": {},
     "output_type": "display_data"
    },
    {
     "name": "stdout",
     "output_type": "stream",
     "text": [
      "<ggplot: (-9223372036566847193)>\n"
     ]
    },
    {
     "name": "stderr",
     "output_type": "stream",
     "text": [
      "/Users/ingonader/anaconda3/lib/python3.6/site-packages/plotnine/layer.py:452: UserWarning: geom_jitter : Removed 23 rows containing missing values.\n",
      "  self.data = self.geom.handle_na(self.data)\n"
     ]
    },
    {
     "data": {
      "text/plain": [
       "<Figure size 640x480 with 1 Axes>"
      ]
     },
     "metadata": {},
     "output_type": "display_data"
    },
    {
     "name": "stdout",
     "output_type": "stream",
     "text": [
      "<ggplot: (287895055)>\n"
     ]
    },
    {
     "name": "stderr",
     "output_type": "stream",
     "text": [
      "/Users/ingonader/anaconda3/lib/python3.6/site-packages/plotnine/layer.py:452: UserWarning: geom_jitter : Removed 1 rows containing missing values.\n",
      "  self.data = self.geom.handle_na(self.data)\n"
     ]
    },
    {
     "data": {
      "text/plain": [
       "<Figure size 640x480 with 1 Axes>"
      ]
     },
     "metadata": {},
     "output_type": "display_data"
    },
    {
     "name": "stdout",
     "output_type": "stream",
     "text": [
      "<ggplot: (-9223372029309668110)>\n"
     ]
    },
    {
     "name": "stderr",
     "output_type": "stream",
     "text": [
      "/Users/ingonader/anaconda3/lib/python3.6/site-packages/plotnine/layer.py:452: UserWarning: geom_jitter : Removed 80 rows containing missing values.\n",
      "  self.data = self.geom.handle_na(self.data)\n"
     ]
    },
    {
     "data": {
      "text/plain": [
       "<Figure size 640x480 with 1 Axes>"
      ]
     },
     "metadata": {},
     "output_type": "display_data"
    },
    {
     "name": "stdout",
     "output_type": "stream",
     "text": [
      "<ggplot: (7545107653)>\n"
     ]
    },
    {
     "name": "stderr",
     "output_type": "stream",
     "text": [
      "/Users/ingonader/anaconda3/lib/python3.6/site-packages/plotnine/layer.py:452: UserWarning: geom_jitter : Removed 21 rows containing missing values.\n",
      "  self.data = self.geom.handle_na(self.data)\n"
     ]
    },
    {
     "data": {
      "text/plain": [
       "<Figure size 640x480 with 1 Axes>"
      ]
     },
     "metadata": {},
     "output_type": "display_data"
    },
    {
     "name": "stdout",
     "output_type": "stream",
     "text": [
      "<ggplot: (7545107653)>\n"
     ]
    },
    {
     "name": "stderr",
     "output_type": "stream",
     "text": [
      "/Users/ingonader/anaconda3/lib/python3.6/site-packages/plotnine/layer.py:452: UserWarning: geom_jitter : Removed 20 rows containing missing values.\n",
      "  self.data = self.geom.handle_na(self.data)\n"
     ]
    },
    {
     "data": {
      "text/plain": [
       "<Figure size 640x480 with 1 Axes>"
      ]
     },
     "metadata": {},
     "output_type": "display_data"
    },
    {
     "name": "stdout",
     "output_type": "stream",
     "text": [
      "<ggplot: (-9223372029309581964)>\n"
     ]
    },
    {
     "name": "stderr",
     "output_type": "stream",
     "text": [
      "/Users/ingonader/anaconda3/lib/python3.6/site-packages/plotnine/layer.py:452: UserWarning: geom_jitter : Removed 20 rows containing missing values.\n",
      "  self.data = self.geom.handle_na(self.data)\n"
     ]
    },
    {
     "data": {
      "text/plain": [
       "<Figure size 640x480 with 1 Axes>"
      ]
     },
     "metadata": {},
     "output_type": "display_data"
    },
    {
     "name": "stdout",
     "output_type": "stream",
     "text": [
      "<ggplot: (7545193939)>\n"
     ]
    },
    {
     "name": "stderr",
     "output_type": "stream",
     "text": [
      "/Users/ingonader/anaconda3/lib/python3.6/site-packages/plotnine/layer.py:452: UserWarning: geom_jitter : Removed 8 rows containing missing values.\n",
      "  self.data = self.geom.handle_na(self.data)\n"
     ]
    },
    {
     "data": {
      "text/plain": [
       "<Figure size 640x480 with 1 Axes>"
      ]
     },
     "metadata": {},
     "output_type": "display_data"
    },
    {
     "name": "stdout",
     "output_type": "stream",
     "text": [
      "<ggplot: (-9223372029309519423)>\n"
     ]
    },
    {
     "name": "stderr",
     "output_type": "stream",
     "text": [
      "/Users/ingonader/anaconda3/lib/python3.6/site-packages/plotnine/layer.py:452: UserWarning: geom_jitter : Removed 4 rows containing missing values.\n",
      "  self.data = self.geom.handle_na(self.data)\n"
     ]
    },
    {
     "data": {
      "text/plain": [
       "<Figure size 640x480 with 1 Axes>"
      ]
     },
     "metadata": {},
     "output_type": "display_data"
    },
    {
     "name": "stdout",
     "output_type": "stream",
     "text": [
      "<ggplot: (7545279843)>\n"
     ]
    },
    {
     "name": "stderr",
     "output_type": "stream",
     "text": [
      "/Users/ingonader/anaconda3/lib/python3.6/site-packages/numpy/lib/function_base.py:1128: RuntimeWarning: Mean of empty slice.\n",
      "  avg = a.mean(axis)\n",
      "/Users/ingonader/anaconda3/lib/python3.6/site-packages/numpy/core/_methods.py:73: RuntimeWarning: invalid value encountered in true_divide\n",
      "  ret, rcount, out=ret, casting='unsafe', subok=False)\n",
      "/Users/ingonader/anaconda3/lib/python3.6/site-packages/numpy/lib/function_base.py:3175: RuntimeWarning: Degrees of freedom <= 0 for slice\n",
      "  c = cov(x, y, rowvar)\n",
      "/Users/ingonader/anaconda3/lib/python3.6/site-packages/numpy/lib/function_base.py:3109: RuntimeWarning: divide by zero encountered in double_scalars\n",
      "  c *= 1. / np.float64(fact)\n",
      "/Users/ingonader/anaconda3/lib/python3.6/site-packages/numpy/lib/function_base.py:3109: RuntimeWarning: invalid value encountered in multiply\n",
      "  c *= 1. / np.float64(fact)\n"
     ]
    },
    {
     "ename": "ValueError",
     "evalue": "x and y must be the same size",
     "output_type": "error",
     "traceback": [
      "\u001b[0;31m---------------------------------------------------------------------------\u001b[0m",
      "\u001b[0;31mValueError\u001b[0m                                Traceback (most recent call last)",
      "\u001b[0;32m<ipython-input-1-fb8b8a3d5702>\u001b[0m in \u001b[0;36m<module>\u001b[0;34m()\u001b[0m\n\u001b[1;32m    369\u001b[0m \u001b[0;34m\u001b[0m\u001b[0m\n\u001b[1;32m    370\u001b[0m \u001b[0;31m# Plot outputs\u001b[0m\u001b[0;34m\u001b[0m\u001b[0;34m\u001b[0m\u001b[0m\n\u001b[0;32m--> 371\u001b[0;31m \u001b[0mplt\u001b[0m\u001b[0;34m.\u001b[0m\u001b[0mscatter\u001b[0m\u001b[0;34m(\u001b[0m\u001b[0mdat_x_test\u001b[0m\u001b[0;34m,\u001b[0m \u001b[0mdat_y_test\u001b[0m\u001b[0;34m,\u001b[0m  \u001b[0mcolor\u001b[0m\u001b[0;34m=\u001b[0m\u001b[0;34m'black'\u001b[0m\u001b[0;34m)\u001b[0m\u001b[0;34m\u001b[0m\u001b[0m\n\u001b[0m\u001b[1;32m    372\u001b[0m \u001b[0mplt\u001b[0m\u001b[0;34m.\u001b[0m\u001b[0mplot\u001b[0m\u001b[0;34m(\u001b[0m\u001b[0mdat_x_test\u001b[0m\u001b[0;34m,\u001b[0m \u001b[0mdat_y_pred\u001b[0m\u001b[0;34m,\u001b[0m \u001b[0mcolor\u001b[0m\u001b[0;34m=\u001b[0m\u001b[0;34m'blue'\u001b[0m\u001b[0;34m,\u001b[0m \u001b[0mlinewidth\u001b[0m\u001b[0;34m=\u001b[0m\u001b[0;36m3\u001b[0m\u001b[0;34m)\u001b[0m\u001b[0;34m\u001b[0m\u001b[0m\n\u001b[1;32m    373\u001b[0m \u001b[0;34m\u001b[0m\u001b[0m\n",
      "\u001b[0;32m~/anaconda3/lib/python3.6/site-packages/matplotlib/pyplot.py\u001b[0m in \u001b[0;36mscatter\u001b[0;34m(x, y, s, c, marker, cmap, norm, vmin, vmax, alpha, linewidths, verts, edgecolors, hold, data, **kwargs)\u001b[0m\n\u001b[1;32m   3468\u001b[0m                          \u001b[0mvmin\u001b[0m\u001b[0;34m=\u001b[0m\u001b[0mvmin\u001b[0m\u001b[0;34m,\u001b[0m \u001b[0mvmax\u001b[0m\u001b[0;34m=\u001b[0m\u001b[0mvmax\u001b[0m\u001b[0;34m,\u001b[0m \u001b[0malpha\u001b[0m\u001b[0;34m=\u001b[0m\u001b[0malpha\u001b[0m\u001b[0;34m,\u001b[0m\u001b[0;34m\u001b[0m\u001b[0m\n\u001b[1;32m   3469\u001b[0m                          \u001b[0mlinewidths\u001b[0m\u001b[0;34m=\u001b[0m\u001b[0mlinewidths\u001b[0m\u001b[0;34m,\u001b[0m \u001b[0mverts\u001b[0m\u001b[0;34m=\u001b[0m\u001b[0mverts\u001b[0m\u001b[0;34m,\u001b[0m\u001b[0;34m\u001b[0m\u001b[0m\n\u001b[0;32m-> 3470\u001b[0;31m                          edgecolors=edgecolors, data=data, **kwargs)\n\u001b[0m\u001b[1;32m   3471\u001b[0m     \u001b[0;32mfinally\u001b[0m\u001b[0;34m:\u001b[0m\u001b[0;34m\u001b[0m\u001b[0m\n\u001b[1;32m   3472\u001b[0m         \u001b[0max\u001b[0m\u001b[0;34m.\u001b[0m\u001b[0m_hold\u001b[0m \u001b[0;34m=\u001b[0m \u001b[0mwashold\u001b[0m\u001b[0;34m\u001b[0m\u001b[0m\n",
      "\u001b[0;32m~/anaconda3/lib/python3.6/site-packages/matplotlib/__init__.py\u001b[0m in \u001b[0;36minner\u001b[0;34m(ax, *args, **kwargs)\u001b[0m\n\u001b[1;32m   1853\u001b[0m                         \u001b[0;34m\"the Matplotlib list!)\"\u001b[0m \u001b[0;34m%\u001b[0m \u001b[0;34m(\u001b[0m\u001b[0mlabel_namer\u001b[0m\u001b[0;34m,\u001b[0m \u001b[0mfunc\u001b[0m\u001b[0;34m.\u001b[0m\u001b[0m__name__\u001b[0m\u001b[0;34m)\u001b[0m\u001b[0;34m,\u001b[0m\u001b[0;34m\u001b[0m\u001b[0m\n\u001b[1;32m   1854\u001b[0m                         RuntimeWarning, stacklevel=2)\n\u001b[0;32m-> 1855\u001b[0;31m             \u001b[0;32mreturn\u001b[0m \u001b[0mfunc\u001b[0m\u001b[0;34m(\u001b[0m\u001b[0max\u001b[0m\u001b[0;34m,\u001b[0m \u001b[0;34m*\u001b[0m\u001b[0margs\u001b[0m\u001b[0;34m,\u001b[0m \u001b[0;34m**\u001b[0m\u001b[0mkwargs\u001b[0m\u001b[0;34m)\u001b[0m\u001b[0;34m\u001b[0m\u001b[0m\n\u001b[0m\u001b[1;32m   1856\u001b[0m \u001b[0;34m\u001b[0m\u001b[0m\n\u001b[1;32m   1857\u001b[0m         inner.__doc__ = _add_data_doc(inner.__doc__,\n",
      "\u001b[0;32m~/anaconda3/lib/python3.6/site-packages/matplotlib/axes/_axes.py\u001b[0m in \u001b[0;36mscatter\u001b[0;34m(self, x, y, s, c, marker, cmap, norm, vmin, vmax, alpha, linewidths, verts, edgecolors, **kwargs)\u001b[0m\n\u001b[1;32m   4241\u001b[0m         \u001b[0my\u001b[0m \u001b[0;34m=\u001b[0m \u001b[0mnp\u001b[0m\u001b[0;34m.\u001b[0m\u001b[0mma\u001b[0m\u001b[0;34m.\u001b[0m\u001b[0mravel\u001b[0m\u001b[0;34m(\u001b[0m\u001b[0my\u001b[0m\u001b[0;34m)\u001b[0m\u001b[0;34m\u001b[0m\u001b[0m\n\u001b[1;32m   4242\u001b[0m         \u001b[0;32mif\u001b[0m \u001b[0mx\u001b[0m\u001b[0;34m.\u001b[0m\u001b[0msize\u001b[0m \u001b[0;34m!=\u001b[0m \u001b[0my\u001b[0m\u001b[0;34m.\u001b[0m\u001b[0msize\u001b[0m\u001b[0;34m:\u001b[0m\u001b[0;34m\u001b[0m\u001b[0m\n\u001b[0;32m-> 4243\u001b[0;31m             \u001b[0;32mraise\u001b[0m \u001b[0mValueError\u001b[0m\u001b[0;34m(\u001b[0m\u001b[0;34m\"x and y must be the same size\"\u001b[0m\u001b[0;34m)\u001b[0m\u001b[0;34m\u001b[0m\u001b[0m\n\u001b[0m\u001b[1;32m   4244\u001b[0m \u001b[0;34m\u001b[0m\u001b[0m\n\u001b[1;32m   4245\u001b[0m         \u001b[0;32mif\u001b[0m \u001b[0ms\u001b[0m \u001b[0;32mis\u001b[0m \u001b[0;32mNone\u001b[0m\u001b[0;34m:\u001b[0m\u001b[0;34m\u001b[0m\u001b[0m\n",
      "\u001b[0;31mValueError\u001b[0m: x and y must be the same size"
     ]
    }
   ],
   "source": [
    "## ######################################################################### ##\n",
    "## Analysis of IMDB Movie Dataset\n",
    "## For EdX Course\n",
    "## Python for Data Science (Week 6 Mini Project)\n",
    "## ######################################################################### ##\n",
    "\n",
    "## ========================================================================= ## \n",
    "## import libraries\n",
    "## ========================================================================= ##\n",
    "\n",
    "import requests\n",
    "import io\n",
    "import zipfile\n",
    "import os\n",
    "import urllib.parse\n",
    "import re   ## for regular expressions\n",
    "from itertools import chain  ## for chain, similar to R's unlist\n",
    "import collections   ## for Counters (used in frequency tables, for example)\n",
    "import numpy as np\n",
    "import pandas as pd\n",
    "from plotnine import *\n",
    "import matplotlib.pyplot as plt\n",
    "\n",
    "\n",
    "## ========================================================================= ##\n",
    "## download and extract zip\n",
    "## ========================================================================= ##\n",
    "\n",
    "## define url and filename, as well as target path:\n",
    "url_base = 'http://files.grouplens.org/datasets/movielens/'\n",
    "filename = 'ml-20m.zip'\n",
    "url = urllib.parse.urljoin(url_base, filename)\n",
    "path_dat = './data'\n",
    "\n",
    "# ## download (commented out in order not to repeat it every time):\n",
    "# r = requests.get(url, allow_redirects=True)\n",
    "# open(filename, 'wb').write(r.content)\n",
    "#\n",
    "# ## check download:\n",
    "# os.getcwd()\n",
    "# os.listdir()\n",
    "# \n",
    "# ## unzip:\n",
    "# zip_ref = zipfile.ZipFile(filename, 'r')\n",
    "# zip_ref.extractall(path_dat)\n",
    "# zip_ref.close()\n",
    "\n",
    "## ========================================================================= ##\n",
    "## Load data files\n",
    "## ========================================================================= ##\n",
    "\n",
    "dat_movies = pd.read_csv(\n",
    "    os.path.join(path_dat, 'ml-20m/movies.csv'), \n",
    "    sep = ',')\n",
    "\n",
    "dat_movies.head(2)\n",
    "dat_movies.info()\n",
    "\n",
    "#dat_movies.dtype                    ## 'DataFrame' object has no attribute 'dtype'\n",
    "dat_movies['movieId'].dtype\n",
    "dat_movies['title'].dtype   \n",
    "\n",
    "type(dat_movies)                     ## also for DataFrame: pandas.core.frame.DataFrame\n",
    "type(dat_movies['movieId'])          ## pandas.core.series.Series\n",
    "type(dat_movies['movieId'].values)   ## numpy.ndarray\n",
    "type(dat_movies['movieId'][1])       ## numpy.int64\n",
    "\n",
    "dir(dat_movies)                      ## list all methods?\n",
    "\n",
    "## find strings in this list:\n",
    "# dir(dat_movies).str.contains('unstack')  ... str.-methods only work on pandas df, not lists\n",
    "list(filter(lambda x:'values' in x, dir(dat_movies)))  ## filter returns an iterable, hence need 'list'\n",
    "list(filter(lambda x: re.search(r'unstack', x), dir(dat_movies)))\n",
    "\n",
    "#cond = df['A'].str.contains('a')\n",
    "\n",
    "dat_movies.__dict__                  ## lengthy, equivalent to vars(<>)\n",
    "vars(dat_movies)                     ## lengthy, equivalent to <>.__dict__\n",
    "\n",
    "## get column names:\n",
    "list(dat_movies.columns.values)      \n",
    "list(dat_movies)                     ## same\n",
    "\n",
    "## summary of data frame\n",
    "dat_movies.describe()                ## similar to R's summary()\n",
    "\n",
    "dat_ratings = pd.read_csv(\n",
    "    os.path.join(path_dat, 'ml-20m/ratings.csv'), \n",
    "    sep = ',')\n",
    "\n",
    "dat_ratings.head(2)\n",
    "dat_ratings.info()\n",
    "\n",
    "dat_tags = pd.read_csv(\n",
    "    os.path.join(path_dat, 'ml-20m/tags.csv'), \n",
    "    sep = ',')\n",
    "\n",
    "dat_tags.head(2)\n",
    "dat_tags.info()\n",
    "\n",
    "## Note:\n",
    "## For some reason, string columns are of type \"object\".\n",
    "## https://stackoverflow.com/questions/33957720/how-to-convert-column-with-dtype-as-object-to-string-in-pandas-dataframe\n",
    "## since strings data types have variable length, \n",
    "## it is by default stored as object dtype. If you want to store them as \n",
    "## string type, you can do something like this.\n",
    "## df['column'] = df['column'].astype('|S80') #where the max length is set at 80 bytes,\n",
    "## or alternatively\n",
    "## df['column'] = df['column'].astype('|S') # which will by default set the length to the max len it encounters\n",
    "##  the pandas dataframe stores the pointers to the strings and hence it is of type 'object'.\n",
    "\n",
    "#dat_movies.head(2)['title'].astype('str')\n",
    "\n",
    "## ========================================================================= ##\n",
    "## data prep\n",
    "## ========================================================================= ##\n",
    "\n",
    "## possible research questions:\n",
    "## * what is the relationship of movie complexity \n",
    "##   (as measured by number of genres) and average rating? u-shaped?\n",
    "## * what is the relationship of genres and average rating? \n",
    "##   have different genres different ratings, on average?\n",
    "\n",
    "\n",
    "## ~~~~~~~~~~~~~~~~~~~~~~~~~~~~~~~~~~~~~~~~~~~~~~~~~~~~~~~~~~~~~~~~~~~~~~~~~ ##\n",
    "## aggregate ratings data\n",
    "## ~~~~~~~~~~~~~~~~~~~~~~~~~~~~~~~~~~~~~~~~~~~~~~~~~~~~~~~~~~~~~~~~~~~~~~~~~ ##\n",
    "\n",
    "## aggregate ratings data:\n",
    "## https://stackoverflow.com/questions/38935541/dplyr-summarize-equivalent-in-pandas\n",
    "dat_ratings_agg = dat_ratings \\\n",
    "    .groupby('movieId') \\\n",
    "    .agg({'rating': ['size', 'min', 'max', 'mean', 'std'], \n",
    "         'timestamp': ['min', 'max', 'mean', 'std']})\n",
    "#dat_ratings_agg.head(2)\n",
    "\n",
    "## rename columns:\n",
    "dat_ratings_agg.columns = ['_'.join(col) \\\n",
    "                           for col in dat_ratings_agg.columns]\n",
    "#dat_ratings_agg.head(2)\n",
    "\n",
    "## add correct timestamp column (after aggregation, \n",
    "## as they cannot be aggregated like numerical values):\n",
    "dat_tags['parsed_time'] = pd.to_datetime(\n",
    "    dat_tags['timestamp'], unit='s')\n",
    "dat_ratings['parsed_time'] = pd.to_datetime(\n",
    "    dat_ratings['timestamp'], unit='s')\n",
    "dat_ratings_agg['parsed_time_min'] = pd.to_datetime(\n",
    "    dat_ratings_agg['timestamp_min'], unit='s')\n",
    "dat_ratings_agg['parsed_time_max'] = pd.to_datetime(\n",
    "    dat_ratings_agg['timestamp_max'], unit='s')\n",
    "dat_ratings_agg['parsed_time_mean'] = pd.to_datetime(\n",
    "    dat_ratings_agg['timestamp_mean'], unit='s')\n",
    "dat_ratings_agg.head(2)\n",
    "\n",
    "## ~~~~~~~~~~~~~~~~~~~~~~~~~~~~~~~~~~~~~~~~~~~~~~~~~~~~~~~~~~~~~~~~~~~~~~~~~ ##\n",
    "## merge data files into one wide file\n",
    "## ~~~~~~~~~~~~~~~~~~~~~~~~~~~~~~~~~~~~~~~~~~~~~~~~~~~~~~~~~~~~~~~~~~~~~~~~~ ##\n",
    "\n",
    "## merge data files into one wide file for analysis by movie:\n",
    "dat_raw = pd.merge(\n",
    "    left = dat_movies,\n",
    "    right = dat_ratings_agg,\n",
    "    how = 'left',\n",
    "    on = 'movieId')\n",
    "\n",
    "dat_raw.head(2)\n",
    "\n",
    "\n",
    "## ~~~~~~~~~~~~~~~~~~~~~~~~~~~~~~~~~~~~~~~~~~~~~~~~~~~~~~~~~~~~~~~~~~~~~~~~~ ##\n",
    "## add measurement for movie complexity\n",
    "## ~~~~~~~~~~~~~~~~~~~~~~~~~~~~~~~~~~~~~~~~~~~~~~~~~~~~~~~~~~~~~~~~~~~~~~~~~ ##\n",
    "\n",
    "## add measurement for movie complexity:\n",
    "dat_raw['complexity'] = dat_raw['genres'] \\\n",
    "    .str.split('|') \\\n",
    "    .apply(lambda x: len(x))\n",
    "\n",
    "\n",
    "## exclude movies that have no genres listed:\n",
    "## '(no genres listed)' --> None\n",
    "#dat_raw['complexity'] = None if (dat_raw['genres'] == '(no genres listed)') else dat_raw['complexity']\n",
    "dat_raw['complexity'] = np.where(dat_raw['genres'] == '(no genres listed)', \n",
    "                                 None,\n",
    "                                dat_raw['complexity'])\n",
    "\n",
    "## inspect correctness:\n",
    "dat_raw.groupby(['genres', 'complexity']).agg({'genres': 'size'})\n",
    "dat_raw.groupby(['genres', 'complexity']).agg({'genres': 'size'}).sort_values(by = 'genres')\n",
    "## Note:\n",
    "## 'None' values are just omitted by groupby?\n",
    "\n",
    "## ~~~~~~~~~~~~~~~~~~~~~~~~~~~~~~~~~~~~~~~~~~~~~~~~~~~~~~~~~~~~~~~~~~~~~~~~~ ##\n",
    "## add isGenre attributes for most common genres\n",
    "## ~~~~~~~~~~~~~~~~~~~~~~~~~~~~~~~~~~~~~~~~~~~~~~~~~~~~~~~~~~~~~~~~~~~~~~~~~ ##\n",
    "\n",
    "## get list of different genres:\n",
    "tmp = dat_raw['genres'] \\\n",
    "    .str.split('|')\n",
    "\n",
    "## similar to unlist, I suppose:\n",
    "#from itertools import chain\n",
    "list(chain.from_iterable(tmp))\n",
    "\n",
    "genres_nonunique = list(chain.from_iterable(tmp))\n",
    "len(genres_nonunique)\n",
    "\n",
    "## make frequency table:\n",
    "# import collections\n",
    "genre_counter = collections.Counter(genres_nonunique)\n",
    "print(genre_counter)\n",
    "print(genre_counter.values())\n",
    "print(genre_counter.keys())\n",
    "print(genre_counter.most_common(3))\n",
    "\n",
    "## make frequency table:\n",
    "# {x:genres_nonunique.count(x) for x in genres_nonunique}\n",
    "## (horribly slow, but works)\n",
    "\n",
    "## create indicator column for each genre:\n",
    "genre_inds = []\n",
    "for i in genre_counter.keys():\n",
    "    #print('creating indicator for key', i, ':')\n",
    "    this_ind_name = 'is_' + re.sub('[-\\(\\) ]', '', i).lower()\n",
    "    genre_inds.append(this_ind_name)\n",
    "    #print(this_ind_name)\n",
    "    dat_raw[this_ind_name] = dat_raw['genres'].str.contains(i)\n",
    "\n",
    "#dat_raw.info()\n",
    "#genre_inds\n",
    "\n",
    "## ========================================================================= ##\n",
    "## Data exploration\n",
    "## ========================================================================= ##\n",
    "\n",
    "# dat_raw.info()\n",
    "\n",
    "## ~~~~~~~~~~~~~~~~~~~~~~~~~~~~~~~~~~~~~~~~~~~~~~~~~~~~~~~~~~~~~~~~~~~~~~~~~ ##\n",
    "## univariate data checks\n",
    "## ~~~~~~~~~~~~~~~~~~~~~~~~~~~~~~~~~~~~~~~~~~~~~~~~~~~~~~~~~~~~~~~~~~~~~~~~~ ##\n",
    "\n",
    "## mean ratings:\n",
    "\n",
    "## check mean ratings (histogram):\n",
    "ggplot(dat_raw, aes(x = 'rating_mean')) + \\\n",
    "  geom_histogram(bins = 40, color = 'blue', fill = 'blue')\n",
    "\n",
    "## same plot (histogram) using matplotlib, simple variant:\n",
    "## (doesn't work with missing values in the data)\n",
    "## (preliminary) conclusion: does not work with jupyterlab, only with \n",
    "## ipython notebooks. No idea why. \n",
    "## [[?]] how to get matplotlib plots working, without showing all intermediate steps?\n",
    "\n",
    "# %matplotlib inline\n",
    "# %matplotlib ipympl\n",
    "# %matplotlib widget\n",
    "plt.hist(dat_raw['rating_mean'].dropna().values, 40, density = False, facecolor = 'blue')\n",
    "plt.grid(True)\n",
    "plt.show()\n",
    "\n",
    "## same plot (histogram) using matplotlib, complex variant:\n",
    "# fig, ax = plt.subplots()\n",
    "# plt.hist(dat_raw['rating_mean'], 10, normed=False, facecolor='green')\n",
    "\n",
    "## complexity:\n",
    "\n",
    "ggplot(dat_raw, aes(x = 'complexity')) + \\\n",
    "  geom_bar(color = 'blue', fill = 'blue')\n",
    "\n",
    "\n",
    "## ~~~~~~~~~~~~~~~~~~~~~~~~~~~~~~~~~~~~~~~~~~~~~~~~~~~~~~~~~~~~~~~~~~~~~~~~~ ##\n",
    "## multivariate checks\n",
    "## ~~~~~~~~~~~~~~~~~~~~~~~~~~~~~~~~~~~~~~~~~~~~~~~~~~~~~~~~~~~~~~~~~~~~~~~~~ ##\n",
    "\n",
    "## plot complexity vs. average rating, using ggplot/plotnine:\n",
    "ggplot(dat_raw, aes(y = 'rating_mean', x = 'complexity')) + \\\n",
    "  geom_jitter(alpha = 0.2)\n",
    "\n",
    "## similar plot using matplotlib:\n",
    "## [[todo]]\n",
    "\n",
    "\n",
    "# ## plot complexity vs. average rating, within genre; using ggplot/plotnine:\n",
    "for i in genre_inds:\n",
    "    dat_this = dat_raw[dat_raw[i] == True]\n",
    "    print(ggplot(dat_this, aes(y = 'rating_mean', x = 'complexity', )) + \\\n",
    "      geom_jitter(alpha = 0.2) + \\\n",
    "      ggtitle(title = i))\n",
    "\n",
    "## similar plot using matplotlib:\n",
    "## [[todo]]\n",
    "\n",
    "## ========================================================================= ##\n",
    "## Analysis\n",
    "## ========================================================================= ##\n",
    "\n",
    "## ~~~~~~~~~~~~~~~~~~~~~~~~~~~~~~~~~~~~~~~~~~~~~~~~~~~~~~~~~~~~~~~~~~~~~~~~~ ##\n",
    "## correlation\n",
    "## ~~~~~~~~~~~~~~~~~~~~~~~~~~~~~~~~~~~~~~~~~~~~~~~~~~~~~~~~~~~~~~~~~~~~~~~~~ ##\n",
    "\n",
    "dat_nona = dat_raw.dropna()\n",
    "\n",
    "## np.corrcoef(dat_nona['rating_mean'], dat_nona['complexity'])\n",
    "## AttributeError: 'float' object has no attribute 'shape'\n",
    "## The error is reproducible if the array is of dtype=object\n",
    "\n",
    "## correlation over all movies:\n",
    "np.corrcoef(dat_nona['rating_mean'], dat_nona['complexity'].astype(float))\n",
    "\n",
    "## correlation within each movie category:\n",
    "dat_cor = pd.DataFrame([])\n",
    "for i in genre_inds:\n",
    "    dat_this = dat_nona[dat_nona[i] == True]\n",
    "    cor_this = np.corrcoef(dat_this['rating_mean'], dat_this['complexity'].astype(float))[0, 1]\n",
    "    dat_cor = dat_cor.append(pd.DataFrame(\n",
    "        {'variable': i, 'cor': cor_this}, index = [0]))\n",
    "    \n",
    "dat_cor.sort_values(by = 'cor', ascending = False)\n",
    "\n",
    "## ~~~~~~~~~~~~~~~~~~~~~~~~~~~~~~~~~~~~~~~~~~~~~~~~~~~~~~~~~~~~~~~~~~~~~~~~~ ##\n",
    "## regression\n",
    "## ~~~~~~~~~~~~~~~~~~~~~~~~~~~~~~~~~~~~~~~~~~~~~~~~~~~~~~~~~~~~~~~~~~~~~~~~~ ##\n",
    "\n",
    "## mostly from \n",
    "## http://scikit-learn.org/stable/auto_examples/linear_model/plot_ols.html\n",
    "\n",
    "from sklearn import datasets, linear_model\n",
    "from sklearn.metrics import mean_squared_error, r2_score\n",
    "from sklearn.model_selection import train_test_split\n",
    "\n",
    "## define target and features:\n",
    "target = 'rating_mean'\n",
    "features = [\n",
    " 'complexity',\n",
    " 'is_adventure',\n",
    " 'is_animation',\n",
    " 'is_children',\n",
    " 'is_comedy',\n",
    " 'is_fantasy',\n",
    " 'is_romance',\n",
    " 'is_drama',\n",
    " 'is_action',\n",
    " 'is_crime',\n",
    " 'is_thriller',\n",
    " 'is_horror',\n",
    " 'is_mystery',\n",
    " 'is_scifi',\n",
    " 'is_imax',\n",
    " 'is_documentary',\n",
    " 'is_war',\n",
    " 'is_musical',\n",
    " 'is_western',\n",
    " 'is_filmnoir',\n",
    " 'is_nogenreslisted'\n",
    "]\n",
    "# list(dat_raw)\n",
    "\n",
    "\n",
    "## Split the data into training/testing sets:\n",
    "dat_x_train, dat_x_test, dat_y_train, dat_y_test = train_test_split(\n",
    "    dat_nona[features], dat_nona[target], test_size=0.33, random_state=42)\n",
    "\n",
    "# dat_x_train.shape\n",
    "# dat_x_test.shape\n",
    "# dat_y_train.shape\n",
    "\n",
    "## Create linear regression object\n",
    "mod_01 = linear_model.LinearRegression()\n",
    "\n",
    "## Train the model using the training sets\n",
    "mod_01.fit(dat_x_train, dat_y_train)\n",
    "\n",
    "## Make predictions using the testing set\n",
    "dat_y_pred = mod_01.predict(dat_x_test)\n",
    "\n",
    "\n",
    "mod_01.coef_                                # coefficients\n",
    "mean_squared_error(dat_y_test, dat_y_pred)  # MSE\n",
    "r2_score(dat_y_test, dat_y_pred)            # R^2 (r squared)\n",
    "\n",
    "# Plot outputs\n",
    "plt.scatter(dat_x_test, dat_y_test,  color='black')\n",
    "plt.plot(dat_x_test, dat_y_pred, color='blue', linewidth=3)\n",
    "\n",
    "plt.xticks(())\n",
    "plt.yticks(())\n",
    "\n",
    "plt.show()\n",
    "\n",
    "\n"
   ]
  },
  {
   "cell_type": "code",
   "execution_count": 6,
   "metadata": {},
   "outputs": [
    {
     "ename": "ValueError",
     "evalue": "x and y must be the same size",
     "output_type": "error",
     "traceback": [
      "\u001b[0;31m---------------------------------------------------------------------------\u001b[0m",
      "\u001b[0;31mValueError\u001b[0m                                Traceback (most recent call last)",
      "\u001b[0;32m<ipython-input-6-aa768e8157f0>\u001b[0m in \u001b[0;36m<module>\u001b[0;34m()\u001b[0m\n\u001b[1;32m      1\u001b[0m \u001b[0mget_ipython\u001b[0m\u001b[0;34m(\u001b[0m\u001b[0;34m)\u001b[0m\u001b[0;34m.\u001b[0m\u001b[0mrun_line_magic\u001b[0m\u001b[0;34m(\u001b[0m\u001b[0;34m'matplotlib'\u001b[0m\u001b[0;34m,\u001b[0m \u001b[0;34m'inline'\u001b[0m\u001b[0;34m)\u001b[0m\u001b[0;34m\u001b[0m\u001b[0m\n\u001b[1;32m      2\u001b[0m \u001b[0;31m# Plot outputs\u001b[0m\u001b[0;34m\u001b[0m\u001b[0;34m\u001b[0m\u001b[0m\n\u001b[0;32m----> 3\u001b[0;31m \u001b[0mplt\u001b[0m\u001b[0;34m.\u001b[0m\u001b[0mscatter\u001b[0m\u001b[0;34m(\u001b[0m\u001b[0mdat_x_test\u001b[0m\u001b[0;34m,\u001b[0m \u001b[0mdat_y_test\u001b[0m\u001b[0;34m,\u001b[0m  \u001b[0mcolor\u001b[0m\u001b[0;34m=\u001b[0m\u001b[0;34m'black'\u001b[0m\u001b[0;34m)\u001b[0m\u001b[0;34m\u001b[0m\u001b[0m\n\u001b[0m\u001b[1;32m      4\u001b[0m \u001b[0mplt\u001b[0m\u001b[0;34m.\u001b[0m\u001b[0mplot\u001b[0m\u001b[0;34m(\u001b[0m\u001b[0mdat_x_test\u001b[0m\u001b[0;34m,\u001b[0m \u001b[0mdat_y_pred\u001b[0m\u001b[0;34m,\u001b[0m \u001b[0mcolor\u001b[0m\u001b[0;34m=\u001b[0m\u001b[0;34m'blue'\u001b[0m\u001b[0;34m,\u001b[0m \u001b[0mlinewidth\u001b[0m\u001b[0;34m=\u001b[0m\u001b[0;36m3\u001b[0m\u001b[0;34m)\u001b[0m\u001b[0;34m\u001b[0m\u001b[0m\n\u001b[1;32m      5\u001b[0m \u001b[0;34m\u001b[0m\u001b[0m\n",
      "\u001b[0;32m~/anaconda3/lib/python3.6/site-packages/matplotlib/pyplot.py\u001b[0m in \u001b[0;36mscatter\u001b[0;34m(x, y, s, c, marker, cmap, norm, vmin, vmax, alpha, linewidths, verts, edgecolors, hold, data, **kwargs)\u001b[0m\n\u001b[1;32m   3468\u001b[0m                          \u001b[0mvmin\u001b[0m\u001b[0;34m=\u001b[0m\u001b[0mvmin\u001b[0m\u001b[0;34m,\u001b[0m \u001b[0mvmax\u001b[0m\u001b[0;34m=\u001b[0m\u001b[0mvmax\u001b[0m\u001b[0;34m,\u001b[0m \u001b[0malpha\u001b[0m\u001b[0;34m=\u001b[0m\u001b[0malpha\u001b[0m\u001b[0;34m,\u001b[0m\u001b[0;34m\u001b[0m\u001b[0m\n\u001b[1;32m   3469\u001b[0m                          \u001b[0mlinewidths\u001b[0m\u001b[0;34m=\u001b[0m\u001b[0mlinewidths\u001b[0m\u001b[0;34m,\u001b[0m \u001b[0mverts\u001b[0m\u001b[0;34m=\u001b[0m\u001b[0mverts\u001b[0m\u001b[0;34m,\u001b[0m\u001b[0;34m\u001b[0m\u001b[0m\n\u001b[0;32m-> 3470\u001b[0;31m                          edgecolors=edgecolors, data=data, **kwargs)\n\u001b[0m\u001b[1;32m   3471\u001b[0m     \u001b[0;32mfinally\u001b[0m\u001b[0;34m:\u001b[0m\u001b[0;34m\u001b[0m\u001b[0m\n\u001b[1;32m   3472\u001b[0m         \u001b[0max\u001b[0m\u001b[0;34m.\u001b[0m\u001b[0m_hold\u001b[0m \u001b[0;34m=\u001b[0m \u001b[0mwashold\u001b[0m\u001b[0;34m\u001b[0m\u001b[0m\n",
      "\u001b[0;32m~/anaconda3/lib/python3.6/site-packages/matplotlib/__init__.py\u001b[0m in \u001b[0;36minner\u001b[0;34m(ax, *args, **kwargs)\u001b[0m\n\u001b[1;32m   1853\u001b[0m                         \u001b[0;34m\"the Matplotlib list!)\"\u001b[0m \u001b[0;34m%\u001b[0m \u001b[0;34m(\u001b[0m\u001b[0mlabel_namer\u001b[0m\u001b[0;34m,\u001b[0m \u001b[0mfunc\u001b[0m\u001b[0;34m.\u001b[0m\u001b[0m__name__\u001b[0m\u001b[0;34m)\u001b[0m\u001b[0;34m,\u001b[0m\u001b[0;34m\u001b[0m\u001b[0m\n\u001b[1;32m   1854\u001b[0m                         RuntimeWarning, stacklevel=2)\n\u001b[0;32m-> 1855\u001b[0;31m             \u001b[0;32mreturn\u001b[0m \u001b[0mfunc\u001b[0m\u001b[0;34m(\u001b[0m\u001b[0max\u001b[0m\u001b[0;34m,\u001b[0m \u001b[0;34m*\u001b[0m\u001b[0margs\u001b[0m\u001b[0;34m,\u001b[0m \u001b[0;34m**\u001b[0m\u001b[0mkwargs\u001b[0m\u001b[0;34m)\u001b[0m\u001b[0;34m\u001b[0m\u001b[0m\n\u001b[0m\u001b[1;32m   1856\u001b[0m \u001b[0;34m\u001b[0m\u001b[0m\n\u001b[1;32m   1857\u001b[0m         inner.__doc__ = _add_data_doc(inner.__doc__,\n",
      "\u001b[0;32m~/anaconda3/lib/python3.6/site-packages/matplotlib/axes/_axes.py\u001b[0m in \u001b[0;36mscatter\u001b[0;34m(self, x, y, s, c, marker, cmap, norm, vmin, vmax, alpha, linewidths, verts, edgecolors, **kwargs)\u001b[0m\n\u001b[1;32m   4241\u001b[0m         \u001b[0my\u001b[0m \u001b[0;34m=\u001b[0m \u001b[0mnp\u001b[0m\u001b[0;34m.\u001b[0m\u001b[0mma\u001b[0m\u001b[0;34m.\u001b[0m\u001b[0mravel\u001b[0m\u001b[0;34m(\u001b[0m\u001b[0my\u001b[0m\u001b[0;34m)\u001b[0m\u001b[0;34m\u001b[0m\u001b[0m\n\u001b[1;32m   4242\u001b[0m         \u001b[0;32mif\u001b[0m \u001b[0mx\u001b[0m\u001b[0;34m.\u001b[0m\u001b[0msize\u001b[0m \u001b[0;34m!=\u001b[0m \u001b[0my\u001b[0m\u001b[0;34m.\u001b[0m\u001b[0msize\u001b[0m\u001b[0;34m:\u001b[0m\u001b[0;34m\u001b[0m\u001b[0m\n\u001b[0;32m-> 4243\u001b[0;31m             \u001b[0;32mraise\u001b[0m \u001b[0mValueError\u001b[0m\u001b[0;34m(\u001b[0m\u001b[0;34m\"x and y must be the same size\"\u001b[0m\u001b[0;34m)\u001b[0m\u001b[0;34m\u001b[0m\u001b[0m\n\u001b[0m\u001b[1;32m   4244\u001b[0m \u001b[0;34m\u001b[0m\u001b[0m\n\u001b[1;32m   4245\u001b[0m         \u001b[0;32mif\u001b[0m \u001b[0ms\u001b[0m \u001b[0;32mis\u001b[0m \u001b[0;32mNone\u001b[0m\u001b[0;34m:\u001b[0m\u001b[0;34m\u001b[0m\u001b[0m\n",
      "\u001b[0;31mValueError\u001b[0m: x and y must be the same size"
     ]
    },
    {
     "data": {
      "image/png": "[encoded data removed]",
      "text/plain": [
       "<Figure size 432x288 with 1 Axes>"
      ]
     },
     "metadata": {},
     "output_type": "display_data"
    }
   ],
   "source": [
    "%matplotlib inline\n",
    "# Plot outputs\n",
    "plt.scatter(dat_x_test, dat_y_test,  color='black')\n",
    "plt.plot(dat_x_test, dat_y_pred, color='blue', linewidth=3)\n",
    "\n",
    "plt.xticks(())\n",
    "plt.yticks(())\n",
    "\n",
    "plt.show()\n"
   ]
  },
  {
   "cell_type": "code",
   "execution_count": 7,
   "metadata": {},
   "outputs": [
    {
     "data": {
      "image/png": "[encoded data removed]",
      "text/plain": [
       "<Figure size 576x396 with 2 Axes>"
      ]
     },
     "metadata": {},
     "output_type": "display_data"
    }
   ],
   "source": [
    "from yellowbrick.regressor import ResidualsPlot\n",
    "visualizer = ResidualsPlot(mod_01)\n"
   ]
  },
  {
   "cell_type": "code",
   "execution_count": null,
   "metadata": {},
   "outputs": [],
   "source": []
  }
 ],
 "metadata": {
  "kernelspec": {
   "display_name": "Python 3",
   "language": "python",
   "name": "python3"
  },
  "language_info": {
   "codemirror_mode": {
    "name": "ipython",
    "version": 3
   },
   "file_extension": ".py",
   "mimetype": "text/x-python",
   "name": "python",
   "nbconvert_exporter": "python",
   "pygments_lexer": "ipython3",
   "version": "3.6.5"
  }
 },
 "nbformat": 4,
 "nbformat_minor": 2
}
